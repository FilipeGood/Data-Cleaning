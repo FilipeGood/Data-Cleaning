{
 "cells": [
  {
   "cell_type": "markdown",
   "metadata": {},
   "source": [
    "# Dealing with outliers"
   ]
  },
  {
   "cell_type": "markdown",
   "metadata": {},
   "source": [
    "It's consensual that we should delete outliers because they don't represent well the domain and can make the model take wrong conclusions and therefor have a poor performance.\n",
    "\n",
    "The problem here is defining what is considered an outlier for each of the features. Some values can seem to be outliers but with a deep analysis of the context we realize they arent. For example, the salary of a CEO is much greater than the salary of a simple employee. For an automatic outlier detection techinque, this great difference could lead the technique to think that the salary of a CEO is an outlier but with the knowledge of the context and domain, we know that it isn't an outlier."
   ]
  },
  {
   "cell_type": "markdown",
   "metadata": {},
   "source": [
    "**Two main techniques**:\n",
    "- Use z-score\n",
    "- Local Outlier Factor"
   ]
  },
  {
   "cell_type": "code",
   "execution_count": 15,
   "metadata": {},
   "outputs": [
    {
     "data": {
      "text/plain": [
       "(10372, 44)"
      ]
     },
     "execution_count": 15,
     "metadata": {},
     "output_type": "execute_result"
    }
   ],
   "source": [
    "import pandas as pd\n",
    "import numpy as np\n",
    "\n",
    "df = pd.read_csv('Smaller_Building_Permits.csv')\n",
    "df_num = df.select_dtypes(np.number)\n",
    "\n"
   ]
  },
  {
   "cell_type": "markdown",
   "metadata": {},
   "source": [
    "## Z-score"
   ]
  },
  {
   "cell_type": "markdown",
   "metadata": {},
   "source": [
    "Z-Score test tells us the number of standard deviations that an observation is from the sample mean. The further away the value is, the greater the number of standard deviations.\n",
    "\n",
    "The default number is normally 3"
   ]
  },
  {
   "cell_type": "code",
   "execution_count": 10,
   "metadata": {},
   "outputs": [
    {
     "name": "stderr",
     "output_type": "stream",
     "text": [
      "/usr/lib/python3/dist-packages/ipykernel_launcher.py:3: RuntimeWarning: invalid value encountered in less\n",
      "  This is separate from the ipykernel package so we can avoid doing imports until\n"
     ]
    }
   ],
   "source": [
    "from scipy import stats\n",
    "threshold = 1\n",
    "new_df = df[(np.abs(stats.zscore(df_num)) < threshold).all(axis=1)]"
   ]
  },
  {
   "cell_type": "markdown",
   "metadata": {},
   "source": [
    "## Local Outlier Factor"
   ]
  },
  {
   "cell_type": "markdown",
   "metadata": {},
   "source": [
    "Local Outlier Factor is a function that calculates the density of a certain value based on its neighbors. Considers that a value is outlier if it has a density substantially lower than that of its neighbors.\n",
    "\n",
    "Here we have to define the number o neighbors."
   ]
  },
  {
   "cell_type": "code",
   "execution_count": 14,
   "metadata": {},
   "outputs": [
    {
     "name": "stderr",
     "output_type": "stream",
     "text": [
      "/home/good/.local/lib/python3.6/site-packages/pandas/core/frame.py:4034: SettingWithCopyWarning: \n",
      "A value is trying to be set on a copy of a slice from a DataFrame\n",
      "\n",
      "See the caveats in the documentation: http://pandas.pydata.org/pandas-docs/stable/indexing.html#indexing-view-versus-copy\n",
      "  downcast=downcast, **kwargs)\n"
     ]
    },
    {
     "data": {
      "text/plain": [
       "(10306, 45)"
      ]
     },
     "execution_count": 14,
     "metadata": {},
     "output_type": "execute_result"
    }
   ],
   "source": [
    "from sklearn.neighbors import LocalOutlierFactor\n",
    "\n",
    "df_num.fillna(-1, inplace=True) # have to remove missing values in order to use the function\n",
    "clf = LocalOutlierFactor(n_neighbors=20)\n",
    "y_pred = clf.fit_predict(df_num)  # y pred returns 1 if it is an outlier and -1 otherwise\n",
    "\n",
    "df_with_outlier_pred = df.copy()\n",
    "df_with_outlier_pred[\"lof\"] = y_pred.reshape(-1, 1)\n",
    "new_df = df_with_outlier_pred[df_with_outlier_pred[\"lof\"] != -1]"
   ]
  },
  {
   "cell_type": "code",
   "execution_count": null,
   "metadata": {},
   "outputs": [],
   "source": []
  }
 ],
 "metadata": {
  "kernelspec": {
   "display_name": "Python 3",
   "language": "python",
   "name": "python3"
  },
  "language_info": {
   "codemirror_mode": {
    "name": "ipython",
    "version": 3
   },
   "file_extension": ".py",
   "mimetype": "text/x-python",
   "name": "python",
   "nbconvert_exporter": "python",
   "pygments_lexer": "ipython3",
   "version": "3.6.8"
  }
 },
 "nbformat": 4,
 "nbformat_minor": 2
}
